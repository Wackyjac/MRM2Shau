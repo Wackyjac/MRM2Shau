{
 "cells": [
  {
   "cell_type": "code",
   "execution_count": 4,
   "metadata": {},
   "outputs": [
    {
     "name": "stderr",
     "output_type": "stream",
     "text": [
      "C:\\Users\\Shaurya\\AppData\\Local\\Temp\\ipykernel_5772\\2262377676.py:49: FutureWarning: DataFrame.fillna with 'method' is deprecated and will raise in a future version. Use obj.ffill() or obj.bfill() instead.\n",
      "  data=data.fillna(method='bfill')\n"
     ]
    },
    {
     "name": "stdout",
     "output_type": "stream",
     "text": [
      "SVM classification accuracy 0.7988826815642458\n"
     ]
    },
    {
     "data": {
      "image/png": "[encoded data removed]",
      "text/plain": [
       "<Figure size 640x480 with 1 Axes>"
      ]
     },
     "metadata": {},
     "output_type": "display_data"
    },
    {
     "name": "stdout",
     "output_type": "stream",
     "text": [
      "0.8434782608695652\n"
     ]
    }
   ],
   "source": [
    "import numpy as np\n",
    "import matplotlib as plt\n",
    "import pandas as pd\n",
    "from sklearn.model_selection import train_test_split\n",
    "from sklearn.metrics import confusion_matrix\n",
    "\n",
    "class SVM:\n",
    "\n",
    "    def __init__(self, learning_rate=0.005, lambda_param=0.01, n_iters=80):\n",
    "        self.lr = learning_rate\n",
    "        self.lambda_param = lambda_param\n",
    "        self.n_iters = n_iters\n",
    "        self.w = None\n",
    "        self.b = None\n",
    "\n",
    "    def fit(self, X, y):\n",
    "        n_samples, n_features = X.shape\n",
    "\n",
    "        y_ = np.where(y <= 0, -1, 1)\n",
    "\n",
    "        # init weights\n",
    "        self.w = np.zeros(n_features)\n",
    "        self.b = 0\n",
    "\n",
    "        for _ in range(self.n_iters):\n",
    "            for idx, x_i in enumerate(X):\n",
    "                condition = y_[idx] * (np.dot(x_i, self.w) - self.b) >= 1\n",
    "                if condition:\n",
    "                    self.w -= self.lr * (2 * self.lambda_param * self.w)\n",
    "                else:\n",
    "                    self.w -= self.lr * (2 * self.lambda_param * self.w - np.dot(x_i, y_[idx]))\n",
    "                    self.b -= self.lr * y_[idx]\n",
    "\n",
    "\n",
    "    def predict(self, X):\n",
    "        approx = np.dot(X, self.w) - self.b\n",
    "        return np.sign(approx)\n",
    "\n",
    "\n",
    "# Testing\n",
    "if __name__ == \"__main__\":\n",
    "    # Imports\n",
    "    from sklearn.model_selection import train_test_split\n",
    "    from sklearn import datasets\n",
    "    import matplotlib.pyplot as plt\n",
    "    data = pd.read_csv(\"C:\\\\Users\\\\Shaurya\\\\Downloads\\\\titanic.csv\")\n",
    "    data.Sex=data.Sex.replace({'male':0,'female':1})\n",
    "    data.Embarked=data.Embarked.replace({'Q':0,'C':1,'S':2})\n",
    "    data=data.fillna(method='bfill')\n",
    "    data['Age'] = pd.cut(x=data['Age'], bins=[-np.inf,17, 60, np.inf], labels=['1', '2', '3']) \n",
    "    data['Age']=np.asarray(data['Age'], dtype='int64')\n",
    "    data['Fare'] = pd.cut(x=data['Fare'], bins=[-np.inf,10, 30, 60, np.inf], labels=['0', '1', '2','3']) \n",
    "    data['Fare']=np.asarray(data['Fare'], dtype='int64')\n",
    "    #data.Age.replace('NaN',data.Age.mean())\n",
    "    #data.Embarked.replace('NaN','0')\n",
    "    X = data[['Pclass','Age','Embarked','Sex','Fare']]\n",
    "    y = data['Survived']\n",
    "    for i in X.T:\n",
    "        fmin = X.min()\n",
    "        frange = X.max() - X.min()\n",
    "        X -= fmin\n",
    "        X /= frange\n",
    "    X = np.asarray(X, dtype='int64')\n",
    "    y = np.asarray(y, dtype='int64')\n",
    "    y = np.where(y == 0, -1, 1)\n",
    "\n",
    "    X_train, X_test, y_train, y_test = train_test_split(\n",
    "        X, y, test_size=0.2, random_state=123\n",
    "    )\n",
    "\n",
    "    clf = SVM()\n",
    "    clf.fit(X_train, y_train)\n",
    "    predictions = clf.predict(X_test)\n",
    "\n",
    "    def accuracy(y_true, y_pred):\n",
    "        accuracy = np.sum(y_true == y_pred) / len(y_true)\n",
    "        return accuracy\n",
    "\n",
    "    print(\"SVM classification accuracy\", accuracy(y_test, predictions))\n",
    "\n",
    "    def visualize_svm():\n",
    "        def get_hyperplane_value(x, w, b, offset):\n",
    "            return (-w[0] * x + b + offset) / w[1]\n",
    "\n",
    "        fig = plt.figure()\n",
    "        ax = fig.add_subplot(1, 1, 1)\n",
    "        plt.scatter(X[:, 0], X[:, 1], marker=\"o\", c=y)\n",
    "\n",
    "        x0_1 = np.amin(X[:, 0])\n",
    "        x0_2 = np.amax(X[:, 0])\n",
    "\n",
    "        x1_1 = get_hyperplane_value(x0_1, clf.w, clf.b, 0)\n",
    "        x1_2 = get_hyperplane_value(x0_2, clf.w, clf.b, 0)\n",
    "\n",
    "        x1_1_m = get_hyperplane_value(x0_1, clf.w, clf.b, -1)\n",
    "        x1_2_m = get_hyperplane_value(x0_2, clf.w, clf.b, -1)\n",
    "\n",
    "        x1_1_p = get_hyperplane_value(x0_1, clf.w, clf.b, 1)\n",
    "        x1_2_p = get_hyperplane_value(x0_2, clf.w, clf.b, 1)\n",
    "\n",
    "        ax.plot([x0_1, x0_2], [x1_1, x1_2], \"y--\")\n",
    "        ax.plot([x0_1, x0_2], [x1_1_m, x1_2_m], \"k\")\n",
    "        ax.plot([x0_1, x0_2], [x1_1_p, x1_2_p], \"k\")\n",
    "\n",
    "        x1_min = np.amin(X[:, 1])\n",
    "        x1_max = np.amax(X[:, 1])\n",
    "        ax.set_ylim([x1_min - 3, x1_max + 3])\n",
    "\n",
    "        plt.show()\n",
    "\n",
    "    visualize_svm()\n",
    "    c=confusion_matrix(y_test,predictions)\n",
    "    Precision = c[0][0] / (c[0,0] + c[1,0])\n",
    "    Recall = c[0,0] / (c[0,0] + c[0,1])\n",
    "    F1Score = 2 * (Precision * Recall) / (Precision + Recall)\n",
    "    \n",
    "    print(F1Score)\n",
    "\n"
   ]
  }
 ],
 "metadata": {
  "kernelspec": {
   "display_name": "base",
   "language": "python",
   "name": "python3"
  },
  "language_info": {
   "codemirror_mode": {
    "name": "ipython",
    "version": 3
   },
   "file_extension": ".py",
   "mimetype": "text/x-python",
   "name": "python",
   "nbconvert_exporter": "python",
   "pygments_lexer": "ipython3",
   "version": "3.9.13"
  }
 },
 "nbformat": 4,
 "nbformat_minor": 2
}
