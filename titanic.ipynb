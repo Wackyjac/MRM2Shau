{
 "cells": [
  {
   "cell_type": "code",
   "execution_count": 1,
   "metadata": {},
   "outputs": [],
   "source": [
    "import pandas as pd\n",
    "import numpy as np\n",
    "import matplotlib.pyplot as plt\n",
    "import seaborn as sns\n",
    "from sklearn.model_selection import train_test_split\n",
    "from sklearn.metrics import confusion_matrix"
   ]
  },
  {
   "cell_type": "code",
   "execution_count": 2,
   "metadata": {},
   "outputs": [
    {
     "name": "stderr",
     "output_type": "stream",
     "text": [
      "C:\\Users\\Shaurya\\AppData\\Local\\Temp\\ipykernel_1612\\3527973374.py:4: FutureWarning: DataFrame.fillna with 'method' is deprecated and will raise in a future version. Use obj.ffill() or obj.bfill() instead.\n",
      "  data=data.fillna(method='bfill')\n"
     ]
    },
    {
     "name": "stdout",
     "output_type": "stream",
     "text": [
      "     PassengerId  Survived  Pclass  \\\n",
      "0              1         0       3   \n",
      "1              2         1       1   \n",
      "2              3         1       3   \n",
      "3              4         1       1   \n",
      "4              5         0       3   \n",
      "..           ...       ...     ...   \n",
      "886          887         0       2   \n",
      "887          888         1       1   \n",
      "888          889         0       3   \n",
      "889          890         1       1   \n",
      "890          891         0       3   \n",
      "\n",
      "                                                  Name  Sex  Age  SibSp  \\\n",
      "0                              Braund, Mr. Owen Harris    0    1      1   \n",
      "1    Cumings, Mrs. John Bradley (Florence Briggs Th...    1    1      1   \n",
      "2                               Heikkinen, Miss. Laina    1    1      0   \n",
      "3         Futrelle, Mrs. Jacques Heath (Lily May Peel)    1    1      1   \n",
      "4                             Allen, Mr. William Henry    0    1      0   \n",
      "..                                                 ...  ...  ...    ...   \n",
      "886                              Montvila, Rev. Juozas    0    1      0   \n",
      "887                       Graham, Miss. Margaret Edith    1    1      0   \n",
      "888           Johnston, Miss. Catherine Helen \"Carrie\"    1    1      1   \n",
      "889                              Behr, Mr. Karl Howell    0    1      0   \n",
      "890                                Dooley, Mr. Patrick    0    1      0   \n",
      "\n",
      "     Parch            Ticket  Fare Cabin  Embarked  \n",
      "0        0         A/5 21171     0   C85       2.0  \n",
      "1        0          PC 17599     3   C85       1.0  \n",
      "2        0  STON/O2. 3101282     0  C123       2.0  \n",
      "3        0            113803     2  C123       2.0  \n",
      "4        0            373450     0   E46       2.0  \n",
      "..     ...               ...   ...   ...       ...  \n",
      "886      0            211536     1   B42       2.0  \n",
      "887      0            112053     1   B42       2.0  \n",
      "888      2        W./C. 6607     1  C148       2.0  \n",
      "889      0            111369     1  C148       1.0  \n",
      "890      0            370376     0   NaN       0.0  \n",
      "\n",
      "[891 rows x 12 columns]\n"
     ]
    }
   ],
   "source": [
    "data = pd.read_csv(\"C:\\\\Users\\\\Shaurya\\\\Downloads\\\\titanic.csv\")\n",
    "data.Sex=data.Sex.replace({'male':0,'female':1})\n",
    "data.Embarked=data.Embarked.replace({'Q':0,'C':1,'S':2})\n",
    "data=data.fillna(method='bfill')\n",
    "#data.Age.replace('NaN',data.Age.mean())\n",
    "#data.Embarked.replace('NaN','0')\n",
    "data['Age'] = pd.cut(x=data['Age'], bins=[-np.inf,17, 60, np.inf], labels=['0', '1', '2']) \n",
    "data['Age']=np.asarray(data['Age'], dtype='int64')\n",
    "data['Fare'] = pd.cut(x=data['Fare'], bins=[-np.inf,10, 30, 60, np.inf], labels=['0', '1', '2','3']) \n",
    "data['Fare']=np.asarray(data['Fare'], dtype='int64')\n",
    "print(data)\n",
    "X = data[['Pclass','Age','Embarked','Sex','Age','Fare']]\n",
    "y = data['Survived']\n",
    "for i in X.T:\n",
    "    fmin = X.min()\n",
    "    frange = X.max() - X.min()\n",
    "    X -= fmin\n",
    "    X /= frange"
   ]
  },
  {
   "cell_type": "code",
   "execution_count": 3,
   "metadata": {},
   "outputs": [],
   "source": [
    "X_train, X_test, y_train, y_test = train_test_split(X, y, test_size=0.2, random_state=42)"
   ]
  },
  {
   "cell_type": "code",
   "execution_count": 4,
   "metadata": {},
   "outputs": [
    {
     "name": "stdout",
     "output_type": "stream",
     "text": [
      "[0. 0. 0. 0. 0. 0.]\n"
     ]
    }
   ],
   "source": [
    "weights = np.zeros(X_train.shape[1])\n",
    "lr = 0.5\n",
    "num_iterations = 85\n",
    "cost_history = []\n",
    "print(weights)\n",
    "bias=0"
   ]
  },
  {
   "cell_type": "code",
   "execution_count": 5,
   "metadata": {},
   "outputs": [],
   "source": [
    "def sigmoid(z):\n",
    "  return 1.0 / (1 + np.exp(-z))"
   ]
  },
  {
   "cell_type": "code",
   "execution_count": 6,
   "metadata": {},
   "outputs": [],
   "source": [
    "def predict(X_train, weights):\n",
    "\n",
    "    z = np.dot(X_train, weights)\n",
    "    return sigmoid(z)"
   ]
  },
  {
   "cell_type": "code",
   "execution_count": 7,
   "metadata": {},
   "outputs": [],
   "source": [
    "def cost_function(X_train, y_train, weights):\n",
    "    \n",
    "    observations = len(y_train)\n",
    "    predictions = predict(X_train, weights)\n",
    "\n",
    "    class1_cost = -y_train*np.log(predictions)\n",
    "\n",
    "    class2_cost = (1-y_train)*np.log(1-predictions)\n",
    "\n",
    "    cost = class1_cost - class2_cost\n",
    "    cost = cost.sum() / observations\n",
    "\n",
    "    return cost\n",
    "#Squaring this prediction as we do in MSE results in a non-convex function with many local minimums. If our cost function has many local minimums, gradient descent may not find the optimal global minimum."
   ]
  },
  {
   "cell_type": "code",
   "execution_count": 8,
   "metadata": {},
   "outputs": [],
   "source": [
    "def update_weights(X_train, y_train, weights, lr):\n",
    "    N = len(X_train)\n",
    "    predictions = predict(X_train, weights)\n",
    "    gradient = np.dot(X_train.T,  predictions - y_train)\n",
    "    gradient /= N\n",
    "    gradient *= lr\n",
    "    weights -= gradient\n",
    "\n",
    "    return weights"
   ]
  },
  {
   "cell_type": "code",
   "execution_count": 9,
   "metadata": {},
   "outputs": [],
   "source": [
    "def decision_boundary(prob):\n",
    "     return 1 if prob >= .5 else 0"
   ]
  },
  {
   "cell_type": "code",
   "execution_count": 10,
   "metadata": {},
   "outputs": [],
   "source": [
    "def classify(predictions):\n",
    "#    decision_boundary = np.vectorize(decision_boundary)\n",
    "#    return decision_boundary(predictions).flatten()\n",
    "    #predictions = np.vectorize(predictions).all()\n",
    "    predictions1=list(predictions)\n",
    "    for i in range(len(predictions1)):\n",
    "        if((predictions1[i]>=0.65).any()):\n",
    "            predictions1[i]=1.0\n",
    "        else: predictions1[i]=0.0\n",
    "    return predictions1"
   ]
  },
  {
   "cell_type": "code",
   "execution_count": 11,
   "metadata": {},
   "outputs": [],
   "source": [
    "def train(X_train, y_train, weights, lr, num_iterations):\n",
    "    cost_history = []\n",
    "\n",
    "    for i in range(num_iterations):\n",
    "        weights = update_weights(X_train, y_train, weights, lr)\n",
    "\n",
    "        #Calculate error for auditing purposes\n",
    "        cost = cost_function(X_train, y_train, weights)\n",
    "        cost_history.append(cost)\n",
    "\n",
    "        # Log Progress\n",
    "        if i % 1000 == 0:\n",
    "            print(\"iter: \" +str(i) + \" cost: \"+str(cost))\n",
    "\n",
    "    return weights, cost_history"
   ]
  },
  {
   "cell_type": "code",
   "execution_count": 12,
   "metadata": {},
   "outputs": [
    {
     "name": "stdout",
     "output_type": "stream",
     "text": [
      "iter: 0 cost: 0.6701125189120684\n",
      "[[97  8]\n",
      " [33 41]]\n"
     ]
    },
    {
     "data": {
      "text/plain": [
       "0.770949720670391"
      ]
     },
     "execution_count": 12,
     "metadata": {},
     "output_type": "execute_result"
    }
   ],
   "source": [
    "weights,cost_history=train(X_train, y_train, weights, lr, num_iterations)\n",
    "predictions_test = sigmoid(np.dot(X_test, weights))\n",
    "predictions_test=classify(predictions_test)\n",
    "\n",
    "c=confusion_matrix(y_test,predictions_test)\n",
    "accuracy=(c[0][0]+c[1][1])/len(y_test)\n",
    "print(c)\n",
    "accuracy"
   ]
  },
  {
   "cell_type": "code",
   "execution_count": 13,
   "metadata": {},
   "outputs": [
    {
     "data": {
      "text/plain": [
       "[<matplotlib.lines.Line2D at 0x20bb01c0e80>]"
      ]
     },
     "execution_count": 13,
     "metadata": {},
     "output_type": "execute_result"
    },
    {
     "data": {
      "image/png": "[encoded data removed]",
      "text/plain": [
       "<Figure size 640x480 with 1 Axes>"
      ]
     },
     "metadata": {},
     "output_type": "display_data"
    }
   ],
   "source": [
    "plt.plot(list(range(num_iterations)), cost_history, '-r')"
   ]
  },
  {
   "cell_type": "code",
   "execution_count": 15,
   "metadata": {},
   "outputs": [
    {
     "name": "stdout",
     "output_type": "stream",
     "text": [
      "0.825531914893617\n"
     ]
    }
   ],
   "source": [
    "Precision = c[0][0] / (c[0,0] + c[1,0])\n",
    "Recall = c[0,0] / (c[0,0] + c[0,1])\n",
    "F1Score = 2 * (Precision * Recall) / (Precision + Recall)\n",
    "print(F1Score)"
   ]
  }
 ],
 "metadata": {
  "kernelspec": {
   "display_name": "base",
   "language": "python",
   "name": "python3"
  },
  "language_info": {
   "codemirror_mode": {
    "name": "ipython",
    "version": 3
   },
   "file_extension": ".py",
   "mimetype": "text/x-python",
   "name": "python",
   "nbconvert_exporter": "python",
   "pygments_lexer": "ipython3",
   "version": "3.9.13"
  }
 },
 "nbformat": 4,
 "nbformat_minor": 2
}
